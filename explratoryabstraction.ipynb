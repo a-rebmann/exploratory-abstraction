{
 "cells": [
  {
   "cell_type": "markdown",
   "metadata": {
    "collapsed": true,
    "pycharm": {
     "name": "#%% md\n"
    }
   },
   "source": [
    "# An Exploratory Approach for Multi-perspective Event Abstraction"
   ]
  },
  {
   "cell_type": "code",
   "execution_count": null,
   "outputs": [
    {
     "name": "stdout",
     "output_type": "stream",
     "text": [
      "PCA done\n"
     ]
    }
   ],
   "source": [
    "import pandas as pd\n",
    "from const import *\n",
    "from clustering.retrieve import compute_similarities, retrieve_most_similar_events\n",
    "from read import reader\n",
    "from clustering import preprocessing\n",
    "from clustering.clusterer import Clusterer\n",
    "from config import Config\n",
    "# the config object\n",
    "config = Config(\"input/\", \"output/\", \"MPPNTaskAbstractionMobIS_pd_cases_fv_fine_1\", clust=\"k_means\")\n",
    "\n",
    "# Get event representations from disk\n",
    "pd_events_fv, loaded = reader.load_mppn_representations(config)\n",
    "\n",
    "\n",
    "\n",
    "pca_df, pca_rep = preprocessing.pca(pd_events_fv)\n",
    "print(\"PCA done\")\n",
    "\n",
    "preprocessing.viz(pca_df)\n",
    "\n",
    "\n",
    "\n",
    "# Get similar events\n",
    "#pd_events_fv = compute_similarities(pd_events_fv)\n",
    "# Retrieve most similar events\n",
    "#retrieve_most_similar_events(pd_events_fv, 5523, 6, top_n=5)"
   ],
   "metadata": {
    "collapsed": false,
    "pycharm": {
     "name": "#%%\n",
     "is_executing": true
    }
   }
  },
  {
   "cell_type": "code",
   "execution_count": 2,
   "outputs": [
    {
     "name": "stdout",
     "output_type": "stream",
     "text": [
      "0.40437767\n",
      "Clustering done\n"
     ]
    }
   ],
   "source": [
    "clust = Clusterer(pd_events_fv, config)\n",
    "clust.cluster(pca_rep, 27)\n",
    "print(\"Clustering done\")\n"
   ],
   "metadata": {
    "collapsed": false,
    "pycharm": {
     "name": "#%%\n"
    }
   }
  },
  {
   "cell_type": "code",
   "execution_count": 3,
   "outputs": [],
   "source": [
    "# add the cluster labels to the dataframe\n",
    "pd_events_fv[CLUST_COL] = clust.pred_labels"
   ],
   "metadata": {
    "collapsed": false,
    "pycharm": {
     "name": "#%%\n"
    }
   }
  },
  {
   "cell_type": "code",
   "execution_count": 4,
   "outputs": [
    {
     "data": {
      "text/plain": "         IDX case:concept:name  \\\n0          0                 1   \n65         1                 5   \n130        2                 6   \n131        2                 6   \n195        3                 7   \n...      ...               ...   \n425946  6553              7267   \n425947  6553              7267   \n426010  6554              7268   \n426011  6554              7268   \n426012  6554              7268   \n\n                                                    trace  \\\n0          case:concept:name  concept:name case:travel...   \n65         case:concept:name  concept:name case:travel...   \n130        case:concept:name        concept:name case:...   \n131        case:concept:name        concept:name case:...   \n195        case:concept:name                        co...   \n...                                                   ...   \n425946         case:concept:name                      ...   \n425947         case:concept:name                      ...   \n426010         case:concept:name                      ...   \n426011         case:concept:name                      ...   \n426012         case:concept:name                      ...   \n\n                                                       fv  \\\n0       [4.1470294, 1.4067512, -4.3266125, 0.42475575,...   \n65      [4.1470294, 1.4067512, -4.3266125, 0.42475575,...   \n130     [5.0364475, -1.0454104, -2.2925222, -0.4669228...   \n131     [-0.23424631, 0.6486099, -1.8590505, -0.101478...   \n195     [-4.600467, -2.7162364, 7.385008, -1.5052035, ...   \n...                                                   ...   \n425946  [-0.94584674, 1.85064, -1.78104, 2.039534, 1.1...   \n425947  [-9.127682, 3.452376, 5.5292363, 0.12529077, 0...   \n426010  [-2.1489437, 10.0971, -6.4524198, -0.61791253,...   \n426011  [-1.1794254, 2.0246515, -1.8443458, 2.0812948,...   \n426012  [-9.2652235, 3.576524, 5.4925075, 0.11341269, ...   \n\n        target_concept:name  \\\n0                       5.0   \n65                      5.0   \n130                     6.0   \n131                     5.0   \n195                     7.0   \n...                     ...   \n425946                 16.0   \n425947                 17.0   \n426010                 15.0   \n426011                 16.0   \n426012                 17.0   \n\n                                  target_concept:name_enc  event_pos  clust  \n0                                            pay expenses          0     10  \n65                                           pay expenses          0     10  \n130                                    calculate payments          0     10  \n131                                          pay expenses          1     10  \n195                    send original documents to archive          0     22  \n...                                                   ...        ...    ...  \n425946  check if travel request needs preliminary pric...          1      0  \n425947                    decide on approval requirements          2      0  \n426010                                file travel request          0     13  \n426011  check if travel request needs preliminary pric...          1      0  \n426012                    decide on approval requirements          2      0  \n\n[83256 rows x 8 columns]",
      "text/html": "<div>\n<style scoped>\n    .dataframe tbody tr th:only-of-type {\n        vertical-align: middle;\n    }\n\n    .dataframe tbody tr th {\n        vertical-align: top;\n    }\n\n    .dataframe thead th {\n        text-align: right;\n    }\n</style>\n<table border=\"1\" class=\"dataframe\">\n  <thead>\n    <tr style=\"text-align: right;\">\n      <th></th>\n      <th>IDX</th>\n      <th>case:concept:name</th>\n      <th>trace</th>\n      <th>fv</th>\n      <th>target_concept:name</th>\n      <th>target_concept:name_enc</th>\n      <th>event_pos</th>\n      <th>clust</th>\n    </tr>\n  </thead>\n  <tbody>\n    <tr>\n      <th>0</th>\n      <td>0</td>\n      <td>1</td>\n      <td>case:concept:name  concept:name case:travel...</td>\n      <td>[4.1470294, 1.4067512, -4.3266125, 0.42475575,...</td>\n      <td>5.0</td>\n      <td>pay expenses</td>\n      <td>0</td>\n      <td>10</td>\n    </tr>\n    <tr>\n      <th>65</th>\n      <td>1</td>\n      <td>5</td>\n      <td>case:concept:name  concept:name case:travel...</td>\n      <td>[4.1470294, 1.4067512, -4.3266125, 0.42475575,...</td>\n      <td>5.0</td>\n      <td>pay expenses</td>\n      <td>0</td>\n      <td>10</td>\n    </tr>\n    <tr>\n      <th>130</th>\n      <td>2</td>\n      <td>6</td>\n      <td>case:concept:name        concept:name case:...</td>\n      <td>[5.0364475, -1.0454104, -2.2925222, -0.4669228...</td>\n      <td>6.0</td>\n      <td>calculate payments</td>\n      <td>0</td>\n      <td>10</td>\n    </tr>\n    <tr>\n      <th>131</th>\n      <td>2</td>\n      <td>6</td>\n      <td>case:concept:name        concept:name case:...</td>\n      <td>[-0.23424631, 0.6486099, -1.8590505, -0.101478...</td>\n      <td>5.0</td>\n      <td>pay expenses</td>\n      <td>1</td>\n      <td>10</td>\n    </tr>\n    <tr>\n      <th>195</th>\n      <td>3</td>\n      <td>7</td>\n      <td>case:concept:name                        co...</td>\n      <td>[-4.600467, -2.7162364, 7.385008, -1.5052035, ...</td>\n      <td>7.0</td>\n      <td>send original documents to archive</td>\n      <td>0</td>\n      <td>22</td>\n    </tr>\n    <tr>\n      <th>...</th>\n      <td>...</td>\n      <td>...</td>\n      <td>...</td>\n      <td>...</td>\n      <td>...</td>\n      <td>...</td>\n      <td>...</td>\n      <td>...</td>\n    </tr>\n    <tr>\n      <th>425946</th>\n      <td>6553</td>\n      <td>7267</td>\n      <td>case:concept:name                      ...</td>\n      <td>[-0.94584674, 1.85064, -1.78104, 2.039534, 1.1...</td>\n      <td>16.0</td>\n      <td>check if travel request needs preliminary pric...</td>\n      <td>1</td>\n      <td>0</td>\n    </tr>\n    <tr>\n      <th>425947</th>\n      <td>6553</td>\n      <td>7267</td>\n      <td>case:concept:name                      ...</td>\n      <td>[-9.127682, 3.452376, 5.5292363, 0.12529077, 0...</td>\n      <td>17.0</td>\n      <td>decide on approval requirements</td>\n      <td>2</td>\n      <td>0</td>\n    </tr>\n    <tr>\n      <th>426010</th>\n      <td>6554</td>\n      <td>7268</td>\n      <td>case:concept:name                      ...</td>\n      <td>[-2.1489437, 10.0971, -6.4524198, -0.61791253,...</td>\n      <td>15.0</td>\n      <td>file travel request</td>\n      <td>0</td>\n      <td>13</td>\n    </tr>\n    <tr>\n      <th>426011</th>\n      <td>6554</td>\n      <td>7268</td>\n      <td>case:concept:name                      ...</td>\n      <td>[-1.1794254, 2.0246515, -1.8443458, 2.0812948,...</td>\n      <td>16.0</td>\n      <td>check if travel request needs preliminary pric...</td>\n      <td>1</td>\n      <td>0</td>\n    </tr>\n    <tr>\n      <th>426012</th>\n      <td>6554</td>\n      <td>7268</td>\n      <td>case:concept:name                      ...</td>\n      <td>[-9.2652235, 3.576524, 5.4925075, 0.11341269, ...</td>\n      <td>17.0</td>\n      <td>decide on approval requirements</td>\n      <td>2</td>\n      <td>0</td>\n    </tr>\n  </tbody>\n</table>\n<p>83256 rows × 8 columns</p>\n</div>"
     },
     "execution_count": 4,
     "metadata": {},
     "output_type": "execute_result"
    }
   ],
   "source": [
    "pd_events_fv\n"
   ],
   "metadata": {
    "collapsed": false,
    "pycharm": {
     "name": "#%%\n"
    }
   }
  },
  {
   "cell_type": "code",
   "execution_count": 5,
   "outputs": [
    {
     "name": "stdout",
     "output_type": "stream",
     "text": [
      "activities {'file travel request', 'decide on travel expense approval', 'check if expense documents exist', 'decide on approval requirements', 'check if price inquiry is still needed and up to date', 'upload travel expense documents', 'send booking proposal to employee', 'pay expenses', 'decide on request', 'calculate payments', 'correct request', 'check if travel request is still needed and up to date', 'book travel', 'file travel expense report', 'send request for correction', 'transform price inquiry to travel request', 'check booking proposal', 'check if travel request needs preliminary price inquiry', 'send original documents to archive', 'send request for travel expense correction', 'request update of the booking proposal', 'forward request to approver', 'correct travel expense report', 'prepare booking proposal', 'check if booking is necessary'}\n",
      "activities {'book travel', 'check if price inquiry is still needed and up to date', 'check if travel request needs preliminary price inquiry', 'send booking proposal to employee', 'request update of the booking proposal', 'file travel request', 'forward request to approver', 'send request for correction', 'decide on request', 'transform price inquiry to travel request', 'correct request', 'check booking proposal', 'prepare booking proposal', 'decide on approval requirements', 'check if booking is necessary'}\n",
      "activities {'send original documents to archive', 'pay expenses', 'file travel request', 'decide on request', 'calculate payments'}\n",
      "activities {'upload travel expense documents', 'send request for travel expense correction', 'file travel expense report', 'decide on travel expense approval', 'check if expense documents exist'}\n",
      "activities {'forward request to approver', 'decide on approval requirements'}\n",
      "activities {'calculate payments', 'file travel request', 'send original documents to archive', 'prepare booking proposal'}\n",
      "activities {'check if travel request needs preliminary price inquiry', 'decide on approval requirements', 'send booking proposal to employee'}\n",
      "activities {'file travel request', 'decide on travel expense approval', 'check if expense documents exist', 'decide on approval requirements', 'check if price inquiry is still needed and up to date', 'upload travel expense documents', 'send booking proposal to employee', 'decide on request', 'correct request', 'check if travel request is still needed and up to date', 'book travel', 'send request for correction', 'transform price inquiry to travel request', 'check booking proposal', 'check if travel request needs preliminary price inquiry', 'send request for travel expense correction', 'request update of the booking proposal', 'forward request to approver', 'prepare booking proposal', 'check if booking is necessary'}\n",
      "activities {'check if booking is necessary'}\n",
      "activities {'upload travel expense documents', 'send request for travel expense correction', 'confirm travel expense report', 'file travel expense report', 'decide on travel expense approval', 'check if expense documents exist'}\n",
      "activities {'check if price inquiry is still needed and up to date', 'send original documents to archive', 'send request for travel expense correction', 'pay expenses', 'forward request to approver', 'file travel request', 'correct travel expense report', 'decide on request', 'calculate payments', 'transform price inquiry to travel request', 'correct request', 'decide on travel expense approval', 'prepare booking proposal', 'check if expense documents exist'}\n",
      "activities {'check if travel request needs preliminary price inquiry', 'upload travel expense documents', 'send booking proposal to employee', 'request update of the booking proposal', 'decide on request', 'transform price inquiry to travel request', 'check booking proposal', 'check if travel request is still needed and up to date', 'prepare booking proposal', 'check if expense documents exist', 'decide on approval requirements'}\n",
      "activities {'book travel', 'check if travel request needs preliminary price inquiry', 'transform price inquiry to travel request', 'prepare booking proposal', 'check if booking is necessary'}\n",
      "activities {'check if price inquiry is still needed and up to date', 'check if travel request needs preliminary price inquiry', 'send original documents to archive', 'send booking proposal to employee', 'file travel request', 'forward request to approver', 'decide on request', 'calculate payments', 'transform price inquiry to travel request', 'correct request', 'check booking proposal', 'prepare booking proposal', 'check if booking is necessary'}\n",
      "activities {'upload travel expense documents', 'send request for travel expense correction', 'confirm travel expense report', 'file travel expense report', 'correct travel expense report', 'decide on request', 'check if expense documents exist'}\n",
      "activities {'file travel request', 'send original documents to archive', 'calculate payments', 'pay expenses'}\n",
      "activities {'file travel request', 'decide on travel expense approval', 'check if expense documents exist', 'decide on approval requirements', 'check if price inquiry is still needed and up to date', 'upload travel expense documents', 'send booking proposal to employee', 'pay expenses', 'decide on request', 'calculate payments', 'correct request', 'check if travel request is still needed and up to date', 'book travel', 'confirm travel expense report', 'file travel expense report', 'send request for correction', 'transform price inquiry to travel request', 'check booking proposal', 'check if travel request needs preliminary price inquiry', 'send request for travel expense correction', 'send original documents to archive', 'forward request to approver', 'request update of the booking proposal', 'correct travel expense report', 'prepare booking proposal', 'check if booking is necessary'}\n",
      "activities {'upload travel expense documents', 'send request for travel expense correction', 'confirm travel expense report', 'file travel expense report', 'send booking proposal to employee', 'decide on request', 'decide on travel expense approval', 'check if expense documents exist'}\n",
      "activities {'book travel', 'check if price inquiry is still needed and up to date', 'check if travel request needs preliminary price inquiry', 'upload travel expense documents', 'send booking proposal to employee', 'request update of the booking proposal', 'forward request to approver', 'file travel request', 'decide on request', 'send request for correction', 'transform price inquiry to travel request', 'correct request', 'check booking proposal', 'check if travel request is still needed and up to date', 'prepare booking proposal', 'check if expense documents exist', 'decide on approval requirements', 'check if booking is necessary'}\n",
      "activities {'book travel', 'check if price inquiry is still needed and up to date', 'upload travel expense documents', 'check if travel request needs preliminary price inquiry', 'send request for travel expense correction', 'send booking proposal to employee', 'file travel expense report', 'forward request to approver', 'request update of the booking proposal', 'decide on request', 'transform price inquiry to travel request', 'check booking proposal', 'check if travel request is still needed and up to date', 'decide on travel expense approval', 'check if expense documents exist', 'decide on approval requirements', 'check if booking is necessary'}\n",
      "activities {'send original documents to archive', 'pay expenses', 'file travel request', 'correct travel expense report', 'calculate payments'}\n",
      "activities {'correct request', 'file travel request', 'check if booking is necessary', 'prepare booking proposal'}\n",
      "activities {'check if travel request needs preliminary price inquiry', 'confirm travel expense report', 'send original documents to archive', 'pay expenses', 'file travel expense report', 'forward request to approver', 'file travel request', 'send request for travel expense correction', 'send booking proposal to employee', 'correct travel expense report', 'calculate payments', 'decide on request', 'transform price inquiry to travel request', 'decide on travel expense approval', 'check if travel request is still needed and up to date', 'check if expense documents exist', 'decide on approval requirements', 'check if booking is necessary'}\n",
      "activities {'book travel', 'check if travel request needs preliminary price inquiry', 'send request for travel expense correction', 'send booking proposal to employee', 'request update of the booking proposal', 'forward request to approver', 'decide on request', 'transform price inquiry to travel request', 'check booking proposal', 'check if travel request is still needed and up to date', 'prepare booking proposal', 'decide on approval requirements', 'check if booking is necessary'}\n",
      "activities {'file travel request', 'decide on travel expense approval', 'check if expense documents exist', 'decide on approval requirements', 'check if price inquiry is still needed and up to date', 'upload travel expense documents', 'send booking proposal to employee', 'pay expenses', 'decide on request', 'calculate payments', 'correct request', 'check if travel request is still needed and up to date', 'book travel', 'confirm travel expense report', 'file travel expense report', 'send request for correction', 'transform price inquiry to travel request', 'check booking proposal', 'check if travel request needs preliminary price inquiry', 'send request for travel expense correction', 'send original documents to archive', 'request update of the booking proposal', 'forward request to approver', 'correct travel expense report', 'prepare booking proposal', 'check if booking is necessary'}\n",
      "activities {'upload travel expense documents', 'send request for travel expense correction', 'file travel expense report', 'decide on travel expense approval', 'check if expense documents exist'}\n",
      "activities {'book travel', 'check if travel request needs preliminary price inquiry', 'send booking proposal to employee', 'transform price inquiry to travel request', 'check booking proposal', 'prepare booking proposal', 'check if booking is necessary'}\n"
     ]
    }
   ],
   "source": [
    "# get events of a cluster and compute properties\n",
    "clust_to_props = {}\n",
    "for clust, events in pd_events_fv.groupby(CLUST_COL):\n",
    "    event_types = set()\n",
    "    resources = set()\n",
    "    roles = set()\n",
    "    cat_atts = dict()\n",
    "    num_atts = dict()\n",
    "    preceded_by = set()\n",
    "    followed_by = set()\n",
    "    min_dur_per_case = 0\n",
    "    max_dur_per_case = 0\n",
    "    avg_dur_per_case = 0\n",
    "\n",
    "    all_group_durs = set()\n",
    "    for case, events_per_case in events.groupby(XES_CASE):\n",
    "        #print(case)\n",
    "        indices = events_per_case[EVENT_POS_IN_CASE].tolist()\n",
    "        #print(indices)\n",
    "        if len(events_per_case) < 1:\n",
    "            continue\n",
    "        case_full = events_per_case.iloc[0][TRACE_DF].iloc[indices]\n",
    "        # else:\n",
    "        #    case_full = events_per_case[TRACE_DF]\n",
    "        #len(case_full)\n",
    "        min_time = case_full[XES_TIME].min()\n",
    "        max_time = case_full[XES_TIME].max()\n",
    "        all_group_durs.add(max_time - min_time)\n",
    "        # add event / activity types\n",
    "        event_types.update(case_full[XES_NAME].tolist())\n",
    "        # add resources\n",
    "        resources.update(case_full[XES_RESOURCE].tolist())\n",
    "        # add role\n",
    "        roles.update(case_full[MOBIS_ROLE].tolist())\n",
    "    for row in events.itertuples():\n",
    "        try:\n",
    "            preceded_by.add(row[COL_INDEX_TRACE].iloc[row[COL_INDEX_POS] - 1][XES_NAME])\n",
    "        except:\n",
    "            pass\n",
    "        try:\n",
    "            followed_by.add(row[COL_INDEX_TRACE].iloc[row[COL_INDEX_POS] + 1][XES_NAME])\n",
    "        except:\n",
    "            pass\n",
    "    #preceded_by = preceded_by.difference(event_types)\n",
    "    #followed_by = followed_by.difference(event_types)\n",
    "    #print(\"resources\", resources)\n",
    "    #print(\"durations\", all_group_durs)\n",
    "    #print(\"roles\", roles)\n",
    "    print(\"activities\", event_types)\n",
    "    #print(\"predecessors\", preceded_by)\n",
    "    #print(\"followers\", followed_by)\n"
   ],
   "metadata": {
    "collapsed": false,
    "pycharm": {
     "name": "#%%\n"
    }
   }
  },
  {
   "cell_type": "code",
   "execution_count": 24,
   "outputs": [],
   "source": [],
   "metadata": {
    "collapsed": false,
    "pycharm": {
     "name": "#%%\n"
    }
   }
  },
  {
   "cell_type": "code",
   "execution_count": 1,
   "outputs": [
    {
     "ename": "NameError",
     "evalue": "name 'np' is not defined",
     "output_type": "error",
     "traceback": [
      "\u001B[0;31m---------------------------------------------------------------------------\u001B[0m",
      "\u001B[0;31mNameError\u001B[0m                                 Traceback (most recent call last)",
      "\u001B[0;32m/var/folders/3b/7cjmdk4d3ysg59q40b__n0mm0000gn/T/ipykernel_19302/1964365835.py\u001B[0m in \u001B[0;36m<module>\u001B[0;34m\u001B[0m\n\u001B[1;32m      1\u001B[0m \u001B[0;32mfrom\u001B[0m \u001B[0msklearn\u001B[0m\u001B[0;34m.\u001B[0m\u001B[0mdecomposition\u001B[0m \u001B[0;32mimport\u001B[0m \u001B[0mPCA\u001B[0m\u001B[0;34m\u001B[0m\u001B[0;34m\u001B[0m\u001B[0m\n\u001B[1;32m      2\u001B[0m \u001B[0;34m\u001B[0m\u001B[0m\n\u001B[0;32m----> 3\u001B[0;31m \u001B[0mfv_matrix\u001B[0m \u001B[0;34m=\u001B[0m \u001B[0mnp\u001B[0m\u001B[0;34m.\u001B[0m\u001B[0marray\u001B[0m\u001B[0;34m(\u001B[0m\u001B[0mself\u001B[0m\u001B[0;34m.\u001B[0m\u001B[0mpd_cases_fv\u001B[0m\u001B[0;34m[\u001B[0m\u001B[0;34m\"fv\"\u001B[0m\u001B[0;34m]\u001B[0m\u001B[0;34m.\u001B[0m\u001B[0mtolist\u001B[0m\u001B[0;34m(\u001B[0m\u001B[0;34m)\u001B[0m\u001B[0;34m)\u001B[0m\u001B[0;34m\u001B[0m\u001B[0;34m\u001B[0m\u001B[0m\n\u001B[0m\u001B[1;32m      4\u001B[0m \u001B[0mprint\u001B[0m\u001B[0;34m(\u001B[0m\u001B[0mfv_matrix\u001B[0m\u001B[0;34m.\u001B[0m\u001B[0mshape\u001B[0m\u001B[0;34m)\u001B[0m\u001B[0;34m\u001B[0m\u001B[0;34m\u001B[0m\u001B[0m\n\u001B[1;32m      5\u001B[0m \u001B[0;34m\u001B[0m\u001B[0m\n",
      "\u001B[0;31mNameError\u001B[0m: name 'np' is not defined"
     ]
    }
   ],
   "source": [],
   "metadata": {
    "collapsed": false,
    "pycharm": {
     "name": "#%%\n"
    }
   }
  },
  {
   "cell_type": "code",
   "execution_count": null,
   "outputs": [],
   "source": [],
   "metadata": {
    "collapsed": false,
    "pycharm": {
     "name": "#%%\n"
    }
   }
  }
 ],
 "metadata": {
  "kernelspec": {
   "display_name": "Python 3",
   "language": "python",
   "name": "python3"
  },
  "language_info": {
   "codemirror_mode": {
    "name": "ipython",
    "version": 2
   },
   "file_extension": ".py",
   "mimetype": "text/x-python",
   "name": "python",
   "nbconvert_exporter": "python",
   "pygments_lexer": "ipython2",
   "version": "2.7.6"
  }
 },
 "nbformat": 4,
 "nbformat_minor": 0
}